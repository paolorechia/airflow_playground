{
 "cells": [
  {
   "cell_type": "code",
   "execution_count": 7,
   "metadata": {},
   "outputs": [
    {
     "name": "stdout",
     "output_type": "stream",
     "text": [
      "/data/remotive/2023-01-23_remotive.json\n",
      "['Design' 'Software Development' 'All others' 'Human Resources'\n",
      " 'Finance / Legal' 'DevOps / Sysadmin' 'Product' 'Sales' 'Marketing'\n",
      " 'Customer Service' 'Data' 'QA' 'Business' 'Writing']\n",
      "Cache hit, returning JSON from FS\n",
      "45.9925\n"
     ]
    },
    {
     "name": "stderr",
     "output_type": "stream",
     "text": [
      "/tmp/ipykernel_36498/2708020926.py:19: SettingWithCopyWarning: \n",
      "A value is trying to be set on a copy of a slice from a DataFrame.\n",
      "Try using .loc[row_indexer,col_indexer] = value instead\n",
      "\n",
      "See the caveats in the documentation: https://pandas.pydata.org/pandas-docs/stable/user_guide/indexing.html#returning-a-view-versus-a-copy\n",
      "  sw_df[\"location\"] = sw_df.candidate_required_location.str.lower()\n"
     ]
    }
   ],
   "source": [
    "import pandas as pd\n",
    "\n",
    "import sys\n",
    "sys.path.append(\"/home/paolo/airflow/dags\")\n",
    "\n",
    "from custom_code import custom_lib as cl\n",
    "\n",
    "\n",
    "fp = cl.path_utils.get_today_remotive()\n",
    "print(fp)\n",
    "\n",
    "df = pd.read_json(fp)\n",
    "df.head()\n",
    "print(df.category.unique())\n",
    "\n",
    "sw_df = df[df[\"category\"] == \"Software Development\"]\n",
    "sw_df.head()\n",
    "sw_df.candidate_required_location.unique()\n",
    "sw_df[\"location\"] = sw_df.candidate_required_location.str.lower()\n",
    "\n",
    "worldwide_europe_germany = sw_df[\n",
    "    (sw_df[\"location\"].str.contains(\"europe\"))\n",
    "    | (sw_df[\"location\"].str.contains(\"germany\"))\n",
    "    | (sw_df[\"location\"].str.contains(\"worldwide\"))\n",
    "\n",
    "]\n",
    "\n",
    "worldwide_europe_germany.head()\n",
    "\n",
    "currency_api = cl.currency_api.CachedCurrencyAPI()\n",
    "t = currency_api.convert_usd_to_euros(50.000)\n",
    "print(t)"
   ]
  },
  {
   "cell_type": "code",
   "execution_count": null,
   "metadata": {},
   "outputs": [],
   "source": []
  }
 ],
 "metadata": {
  "kernelspec": {
   "display_name": "envairflow",
   "language": "python",
   "name": "python3"
  },
  "language_info": {
   "codemirror_mode": {
    "name": "ipython",
    "version": 3
   },
   "file_extension": ".py",
   "mimetype": "text/x-python",
   "name": "python",
   "nbconvert_exporter": "python",
   "pygments_lexer": "ipython3",
   "version": "3.10.6"
  },
  "orig_nbformat": 4,
  "vscode": {
   "interpreter": {
    "hash": "f33b5dabe918771f06082a87d040f70abb28259e440d4e2808319da5a6bfa2f8"
   }
  }
 },
 "nbformat": 4,
 "nbformat_minor": 2
}
